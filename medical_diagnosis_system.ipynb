{
 "cells": [
  {
   "cell_type": "markdown",
   "id": "4c4dfb93",
   "metadata": {},
   "source": [
    "## Medical Diagnosis System"
   ]
  },
  {
   "cell_type": "markdown",
   "id": "7164728e",
   "metadata": {},
   "source": [
    "### Libraries needed"
   ]
  },
  {
   "cell_type": "code",
   "execution_count": 23,
   "id": "2a69108f",
   "metadata": {},
   "outputs": [],
   "source": [
    "import numpy as np\n",
    "import pandas as pd\n",
    "from sklearn.naive_bayes import GaussianNB, MultinomialNB, BernoulliNB\n",
    "from sklearn.model_selection import train_test_split\n",
    "from sklearn.metrics import accuracy_score, classification_report"
   ]
  },
  {
   "cell_type": "markdown",
   "id": "1471bd89",
   "metadata": {},
   "source": [
    "### Prepare the Data"
   ]
  },
  {
   "cell_type": "code",
   "execution_count": 24,
   "id": "71edce1c",
   "metadata": {},
   "outputs": [],
   "source": [
    "# Sample patient data\n",
    "# Features: [temperature, heart_rate, blood_pressure, age]\n",
    "patient_data = [\n",
    "    # Healthy\n",
    "    [36.6, 68, 118, 25],\n",
    "    [36.7, 72, 115, 30],\n",
    "    [36.5, 65, 110, 22],\n",
    "    [36.8, 70, 120, 35],\n",
    "    [36.9, 75, 122, 28],\n",
    "    [36.4, 66, 112, 32],\n",
    "    [36.6, 69, 125, 40],\n",
    "    [36.5, 63, 108, 26],\n",
    "    [36.7, 70, 115, 33],\n",
    "    [36.8, 73, 119, 27],\n",
    "\n",
    "    # Sick\n",
    "    [38.5, 90, 140, 45],\n",
    "    [39.2, 95, 145, 52],\n",
    "    [38.8, 88, 150, 50],\n",
    "    [39.5, 92, 155, 60],\n",
    "    [38.6, 91, 142, 48],\n",
    "    [39.1, 94, 148, 55],\n",
    "    [38.7, 89, 139, 42],\n",
    "    [39.3, 93, 143, 51],\n",
    "    [38.9, 90, 146, 49],\n",
    "    [39.0, 96, 147, 53]\n",
    "]\n",
    "\n",
    "# Labels: 1 for sick, 0 for healthy\n",
    "conditions = [0]*10 + [1]*10\n",
    "\n",
    "# Split the data\n",
    "from sklearn.model_selection import train_test_split\n",
    "X_train, X_test, y_train, y_test = train_test_split(patient_data, conditions, test_size=0.2, random_state=42)\n"
   ]
  },
  {
   "cell_type": "markdown",
   "id": "27746e8e",
   "metadata": {},
   "source": [
    "### create a pipeline using Gaussian Naive Bayes"
   ]
  },
  {
   "cell_type": "code",
   "execution_count": 25,
   "id": "b82ad795",
   "metadata": {},
   "outputs": [],
   "source": [
    "from sklearn.preprocessing import StandardScaler\n",
    "from sklearn.pipeline import Pipeline\n",
    "\n",
    "def create_medical_classifier():\n",
    "    return Pipeline(\n",
    "        [\n",
    "            # scale the features\n",
    "            ('scaler', StandardScaler()),\n",
    "            # use Gaussian NB for numerical data\n",
    "            ('classifier', GaussianNB())\n",
    "        ]\n",
    "    )"
   ]
  },
  {
   "cell_type": "markdown",
   "id": "60eb283e",
   "metadata": {},
   "source": [
    "### train and evaluate the model"
   ]
  },
  {
   "cell_type": "code",
   "execution_count": 26,
   "id": "2a416a18",
   "metadata": {},
   "outputs": [
    {
     "name": "stdout",
     "output_type": "stream",
     "text": [
      "Accuracy:  1.0\n",
      "classification report\n",
      "              precision    recall  f1-score   support\n",
      "\n",
      "           0       1.00      1.00      1.00         2\n",
      "           1       1.00      1.00      1.00         2\n",
      "\n",
      "    accuracy                           1.00         4\n",
      "   macro avg       1.00      1.00      1.00         4\n",
      "weighted avg       1.00      1.00      1.00         4\n",
      "\n"
     ]
    }
   ],
   "source": [
    "# create and train the model\n",
    "model=create_medical_classifier()\n",
    "model.fit(X_train, y_train)\n",
    "\n",
    "# make predictions\n",
    "predictions=model.predict(X_test)\n",
    "probabilities=model.predict_proba(X_test)\n",
    "\n",
    "# evaluate performance\n",
    "print(\"Accuracy: \", accuracy_score(y_test, predictions))\n",
    "print(\"classification report\")\n",
    "print(classification_report(y_test, predictions))"
   ]
  },
  {
   "cell_type": "code",
   "execution_count": 27,
   "id": "bf88878a",
   "metadata": {},
   "outputs": [
    {
     "name": "stdout",
     "output_type": "stream",
     "text": [
      "\n",
      "Patient 1:\n",
      "Features: [38.2, 85, 135, 40]\n",
      "Diagnosis: Sick\n",
      "Confidence: 100.00%\n",
      "\n",
      "Patient 2:\n",
      "Features: [36.8, 70, 120, 65]\n",
      "Diagnosis: Healthy\n",
      "Confidence: 100.00%\n",
      "\n",
      "Patient 3:\n",
      "Features: [39.5, 90, 145, 50]\n",
      "Diagnosis: Sick\n",
      "Confidence: 100.00%\n",
      "\n",
      "Patient 4:\n",
      "Features: [37.0, 72, 130, 60]\n",
      "Diagnosis: Healthy\n",
      "Confidence: 100.00%\n"
     ]
    }
   ],
   "source": [
    "# New patients' data (each row is [temperature, weight, blood pressure, heart rate])\n",
    "new_patients = [\n",
    "    [38.2, 85, 135, 40],   # Patient 1\n",
    "    [36.8, 70, 120, 65],   # Patient 2\n",
    "    [39.5, 90, 145, 50],   # Patient 3\n",
    "    [37.0, 72, 130, 60]    # Patient 4\n",
    "]\n",
    "\n",
    "# Make predictions\n",
    "predictions = model.predict(new_patients)\n",
    "probabilities = model.predict_proba(new_patients)\n",
    "\n",
    "# Print results\n",
    "for i, (features, pred, prob) in enumerate(zip(new_patients, predictions, probabilities), 1):\n",
    "    print(f\"\\nPatient {i}:\")\n",
    "    print(f\"Features: {features}\")\n",
    "    print(f\"Diagnosis: {'Sick' if pred == 1 else 'Healthy'}\")\n",
    "    print(f\"Confidence: {max(prob):.2%}\")\n"
   ]
  }
 ],
 "metadata": {
  "kernelspec": {
   "display_name": "base",
   "language": "python",
   "name": "python3"
  },
  "language_info": {
   "codemirror_mode": {
    "name": "ipython",
    "version": 3
   },
   "file_extension": ".py",
   "mimetype": "text/x-python",
   "name": "python",
   "nbconvert_exporter": "python",
   "pygments_lexer": "ipython3",
   "version": "3.12.4"
  }
 },
 "nbformat": 4,
 "nbformat_minor": 5
}
